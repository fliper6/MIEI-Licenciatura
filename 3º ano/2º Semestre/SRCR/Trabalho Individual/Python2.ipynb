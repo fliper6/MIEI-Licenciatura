{
 "cells": [
  {
   "cell_type": "code",
   "execution_count": 61,
   "metadata": {},
   "outputs": [],
   "source": [
    "import pandas as pd\n",
    "import os\n",
    "saveFile = open('C:/Users/Filipa/Desktop/adjacencias_prolog.pl','w', encoding='utf-8')\n",
    "\n",
    "adjacenciasVisitadas=[]\n",
    "for ficheiro in os.listdir('C:/Users/Filipa/Desktop/Current/Trabalho Individual SRCR/CSV/'):\n",
    "    dados = pd.read_csv('C:/Users/Filipa/Desktop/Current/Trabalho Individual SRCR/CSV/' + ficheiro, encoding='utf-8').dropna()\n",
    "    for i in range(0,dados.shape[0] - 1 ):   \n",
    "     if(not((dados.iloc[i,0]),(dados.iloc[i+1,0]))in(adjacenciasVisitadas)):\n",
    "        adjacenciasVisitadas.append(((dados.iloc[i,0]),(dados.iloc[i+1,0])))\n",
    "        saveFile.write('adjacencia( ')\n",
    "        saveFile.write(str(dados.iloc[i,0]))  \n",
    "        saveFile.write(', ')\n",
    "        saveFile.write(str(dados.iloc[i+1,0]))  \n",
    "        saveFile.write(' ).')  \n",
    "        saveFile.write('\\n')\n",
    "saveFile.close()"
   ]
  },
  {
   "cell_type": "code",
   "execution_count": 57,
   "metadata": {},
   "outputs": [],
   "source": []
  },
  {
   "cell_type": "code",
   "execution_count": null,
   "metadata": {},
   "outputs": [],
   "source": []
  }
 ],
 "metadata": {
  "kernelspec": {
   "display_name": "Python 3",
   "language": "python",
   "name": "python3"
  },
  "language_info": {
   "codemirror_mode": {
    "name": "ipython",
    "version": 3
   },
   "file_extension": ".py",
   "mimetype": "text/x-python",
   "name": "python",
   "nbconvert_exporter": "python",
   "pygments_lexer": "ipython3",
   "version": "3.7.6"
  }
 },
 "nbformat": 4,
 "nbformat_minor": 4
}
