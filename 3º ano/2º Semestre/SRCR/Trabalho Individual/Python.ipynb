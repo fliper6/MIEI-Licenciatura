import pandas as pd
dados = pd.read_csv("lista_adjacencias_paragens_01.csv").dropna()

saveFile = open('C:/Users/Filipa/Desktop/Paragens_Prolog/prologFich01.pl','w')

for i in range(0,dados.shape[0]):   
  saveFile.write('paragem( ')
  saveFile.write(str(i))
  saveFile.write(', ')
  for j in range(0,dados.shape[1]): 
    if (j == 3 or j == 4 or j == 5 or j == 6 or j == 9 or j == 10) :
        saveFile.write("'")
        saveFile.write(str(dados.iloc[i,j]))  #Mais de 1 palavra
        saveFile.write("'")
    else : saveFile.write(str(dados.iloc[i,j]))
    if (j != 10) : saveFile.write(', ')
  saveFile.write(' ).')  
  saveFile.write('\n')
saveFile.close()